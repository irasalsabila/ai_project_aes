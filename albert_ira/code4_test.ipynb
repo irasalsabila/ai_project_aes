{
 "cells": [
  {
   "cell_type": "code",
   "execution_count": 1,
   "metadata": {},
   "outputs": [
    {
     "name": "stderr",
     "output_type": "stream",
     "text": [
      "/home/salsabila.pranida/.conda/envs/ai_aes/lib/python3.11/site-packages/tqdm/auto.py:21: TqdmWarning: IProgress not found. Please update jupyter and ipywidgets. See https://ipywidgets.readthedocs.io/en/stable/user_install.html\n",
      "  from .autonotebook import tqdm as notebook_tqdm\n",
      "2024-11-06 20:30:30.605452: I tensorflow/core/util/port.cc:153] oneDNN custom operations are on. You may see slightly different numerical results due to floating-point round-off errors from different computation orders. To turn them off, set the environment variable `TF_ENABLE_ONEDNN_OPTS=0`.\n",
      "2024-11-06 20:30:30.623194: E external/local_xla/xla/stream_executor/cuda/cuda_fft.cc:477] Unable to register cuFFT factory: Attempting to register factory for plugin cuFFT when one has already been registered\n",
      "WARNING: All log messages before absl::InitializeLog() is called are written to STDERR\n",
      "E0000 00:00:1730910630.640923  822562 cuda_dnn.cc:8310] Unable to register cuDNN factory: Attempting to register factory for plugin cuDNN when one has already been registered\n",
      "E0000 00:00:1730910630.646073  822562 cuda_blas.cc:1418] Unable to register cuBLAS factory: Attempting to register factory for plugin cuBLAS when one has already been registered\n",
      "2024-11-06 20:30:30.664030: I tensorflow/core/platform/cpu_feature_guard.cc:210] This TensorFlow binary is optimized to use available CPU instructions in performance-critical operations.\n",
      "To enable the following instructions: AVX2 AVX512F AVX512_VNNI FMA, in other operations, rebuild TensorFlow with the appropriate compiler flags.\n"
     ]
    }
   ],
   "source": [
    "import os\n",
    "import numpy as np\n",
    "import pandas as pd\n",
    "from sklearn.metrics import f1_score, accuracy_score, cohen_kappa_score\n",
    "import torch\n",
    "import torch.nn as nn\n",
    "from transformers import AutoTokenizer, AutoModel\n",
    "from gensim.models import KeyedVectors\n",
    "from sklearn.metrics import f1_score, accuracy_score\n",
    "from albert import *"
   ]
  },
  {
   "cell_type": "code",
   "execution_count": 2,
   "metadata": {},
   "outputs": [],
   "source": [
    "BASE_DIR = '../'\n",
    "DATASET_DIR = os.path.join(BASE_DIR, 'dataset')\n",
    "RESULT_DIR = os.path.join(BASE_DIR, 'result')\n",
    "MODEL_NAME = \"albert-base-v2\"\n",
    "GLOVE_PATH = os.path.join(BASE_DIR, 'word_embeddings/glove.6B.300d.txt')\n",
    "FASTTEXT_PATH = os.path.join(BASE_DIR, 'word_embeddings/wiki.en.vec')"
   ]
  },
  {
   "cell_type": "code",
   "execution_count": 3,
   "metadata": {},
   "outputs": [],
   "source": [
    "# Load embeddings\n",
    "glove_model = load_glove_model(GLOVE_PATH)\n",
    "fasttext_model = load_fasttext_model(FASTTEXT_PATH)"
   ]
  },
  {
   "cell_type": "code",
   "execution_count": 4,
   "metadata": {},
   "outputs": [],
   "source": [
    "# Load Test Data\n",
    "test_df = pd.read_csv(os.path.join(DATASET_DIR, 'test_set.tsv'), sep='\\t', encoding='ISO-8859-1')\n",
    "test_df = test_df.dropna(axis=1)\n",
    "test_df = test_df.drop(columns=['domain1_predictionid'])"
   ]
  },
  {
   "cell_type": "code",
   "execution_count": 5,
   "metadata": {},
   "outputs": [
    {
     "data": {
      "text/html": [
       "<div>\n",
       "<style scoped>\n",
       "    .dataframe tbody tr th:only-of-type {\n",
       "        vertical-align: middle;\n",
       "    }\n",
       "\n",
       "    .dataframe tbody tr th {\n",
       "        vertical-align: top;\n",
       "    }\n",
       "\n",
       "    .dataframe thead th {\n",
       "        text-align: right;\n",
       "    }\n",
       "</style>\n",
       "<table border=\"1\" class=\"dataframe\">\n",
       "  <thead>\n",
       "    <tr style=\"text-align: right;\">\n",
       "      <th></th>\n",
       "      <th>essay_id</th>\n",
       "      <th>essay_set</th>\n",
       "      <th>essay</th>\n",
       "    </tr>\n",
       "  </thead>\n",
       "  <tbody>\n",
       "    <tr>\n",
       "      <th>0</th>\n",
       "      <td>2383</td>\n",
       "      <td>1</td>\n",
       "      <td>I believe that computers have a positive effec...</td>\n",
       "    </tr>\n",
       "    <tr>\n",
       "      <th>1</th>\n",
       "      <td>2384</td>\n",
       "      <td>1</td>\n",
       "      <td>Dear @CAPS1, I know some problems have came up...</td>\n",
       "    </tr>\n",
       "    <tr>\n",
       "      <th>2</th>\n",
       "      <td>2385</td>\n",
       "      <td>1</td>\n",
       "      <td>Dear to whom it @MONTH1 concern, Computers are...</td>\n",
       "    </tr>\n",
       "    <tr>\n",
       "      <th>3</th>\n",
       "      <td>2386</td>\n",
       "      <td>1</td>\n",
       "      <td>Dear @CAPS1 @CAPS2, @CAPS3 has come to my atte...</td>\n",
       "    </tr>\n",
       "    <tr>\n",
       "      <th>4</th>\n",
       "      <td>2387</td>\n",
       "      <td>1</td>\n",
       "      <td>Dear Local newspaper, I think that people have...</td>\n",
       "    </tr>\n",
       "  </tbody>\n",
       "</table>\n",
       "</div>"
      ],
      "text/plain": [
       "   essay_id  essay_set                                              essay\n",
       "0      2383          1  I believe that computers have a positive effec...\n",
       "1      2384          1  Dear @CAPS1, I know some problems have came up...\n",
       "2      2385          1  Dear to whom it @MONTH1 concern, Computers are...\n",
       "3      2386          1  Dear @CAPS1 @CAPS2, @CAPS3 has come to my atte...\n",
       "4      2387          1  Dear Local newspaper, I think that people have..."
      ]
     },
     "execution_count": 5,
     "metadata": {},
     "output_type": "execute_result"
    }
   ],
   "source": [
    "test_df.head()"
   ]
  },
  {
   "cell_type": "code",
   "execution_count": 6,
   "metadata": {},
   "outputs": [
    {
     "data": {
      "text/plain": [
       "array([1, 2, 3, 4, 5, 6, 7, 8])"
      ]
     },
     "execution_count": 6,
     "metadata": {},
     "output_type": "execute_result"
    }
   ],
   "source": [
    "test_df.essay_set.unique()"
   ]
  },
  {
   "cell_type": "code",
   "execution_count": null,
   "metadata": {},
   "outputs": [],
   "source": [
    "minimum_scores = np.array([-1, 2, 1, 0, 0, 0, 0, 0, 0])\n",
    "maximum_scores = np.array([-1, 12, 6, 3, 3, 4, 4, 30, 60])\n",
    "\n",
    "old_min = minimum_scores[df['essay_set']]\n",
    "old_max = maximum_scores[df['essay_set']]\n",
    "old_range = old_max - old_min\n",
    "new_min = 0\n",
    "new_max = 100\n",
    "new_range = (new_max - new_min)  \n",
    "df['score'] = (((df['domain1_score'] - old_min) * new_range) / old_range) + new_min\n",
    "\n",
    "# round score to nearest integer for cohen kappa calculation\n",
    "df_label = np.round(df['score']).astype(float)"
   ]
  },
  {
   "cell_type": "code",
   "execution_count": 7,
   "metadata": {},
   "outputs": [],
   "source": [
    "# Define score scaling based on essay set (as done previously)\n",
    "minimum_scores = np.array([-1, 2, 1, 0, 0, 0, 0, 0, 0])\n",
    "maximum_scores = np.array([-1, 12, 6, 3, 3, 4, 4, 30, 60])\n",
    "\n",
    "# Scale the scores (here we're assigning scaled scores to test_df for comparison)\n",
    "old_min = minimum_scores[test_df['essay_set']]\n",
    "old_max = maximum_scores[test_df['essay_set']]\n",
    "old_range = old_max - old_min\n",
    "new_min = 0\n",
    "new_max = 100\n",
    "new_range = (new_max - new_min)\n",
    "test_df['domain1_score'] = np.random.randint(low=old_min, high=old_max + 1, size=test_df.shape[0])\n",
    "\n",
    "# Now calculate the scaled score based on the training transformation\n",
    "test_df['scaled_score'] = (((test_df['domain1_score'] - old_min) * new_range) / old_range) + new_min\n",
    "test_df['scaled_score'] = test_df['scaled_score'].round().astype(float)  # Convert to integer for consistency"
   ]
  },
  {
   "cell_type": "code",
   "execution_count": 8,
   "metadata": {},
   "outputs": [
    {
     "data": {
      "text/html": [
       "<div>\n",
       "<style scoped>\n",
       "    .dataframe tbody tr th:only-of-type {\n",
       "        vertical-align: middle;\n",
       "    }\n",
       "\n",
       "    .dataframe tbody tr th {\n",
       "        vertical-align: top;\n",
       "    }\n",
       "\n",
       "    .dataframe thead th {\n",
       "        text-align: right;\n",
       "    }\n",
       "</style>\n",
       "<table border=\"1\" class=\"dataframe\">\n",
       "  <thead>\n",
       "    <tr style=\"text-align: right;\">\n",
       "      <th></th>\n",
       "      <th>essay_id</th>\n",
       "      <th>essay_set</th>\n",
       "      <th>essay</th>\n",
       "      <th>domain1_score</th>\n",
       "      <th>scaled_score</th>\n",
       "    </tr>\n",
       "  </thead>\n",
       "  <tbody>\n",
       "    <tr>\n",
       "      <th>0</th>\n",
       "      <td>2383</td>\n",
       "      <td>1</td>\n",
       "      <td>I believe that computers have a positive effec...</td>\n",
       "      <td>6</td>\n",
       "      <td>40.0</td>\n",
       "    </tr>\n",
       "    <tr>\n",
       "      <th>1</th>\n",
       "      <td>2384</td>\n",
       "      <td>1</td>\n",
       "      <td>Dear @CAPS1, I know some problems have came up...</td>\n",
       "      <td>10</td>\n",
       "      <td>80.0</td>\n",
       "    </tr>\n",
       "    <tr>\n",
       "      <th>2</th>\n",
       "      <td>2385</td>\n",
       "      <td>1</td>\n",
       "      <td>Dear to whom it @MONTH1 concern, Computers are...</td>\n",
       "      <td>5</td>\n",
       "      <td>30.0</td>\n",
       "    </tr>\n",
       "    <tr>\n",
       "      <th>3</th>\n",
       "      <td>2386</td>\n",
       "      <td>1</td>\n",
       "      <td>Dear @CAPS1 @CAPS2, @CAPS3 has come to my atte...</td>\n",
       "      <td>2</td>\n",
       "      <td>0.0</td>\n",
       "    </tr>\n",
       "    <tr>\n",
       "      <th>4</th>\n",
       "      <td>2387</td>\n",
       "      <td>1</td>\n",
       "      <td>Dear Local newspaper, I think that people have...</td>\n",
       "      <td>12</td>\n",
       "      <td>100.0</td>\n",
       "    </tr>\n",
       "  </tbody>\n",
       "</table>\n",
       "</div>"
      ],
      "text/plain": [
       "   essay_id  essay_set                                              essay  \\\n",
       "0      2383          1  I believe that computers have a positive effec...   \n",
       "1      2384          1  Dear @CAPS1, I know some problems have came up...   \n",
       "2      2385          1  Dear to whom it @MONTH1 concern, Computers are...   \n",
       "3      2386          1  Dear @CAPS1 @CAPS2, @CAPS3 has come to my atte...   \n",
       "4      2387          1  Dear Local newspaper, I think that people have...   \n",
       "\n",
       "   domain1_score  scaled_score  \n",
       "0              6          40.0  \n",
       "1             10          80.0  \n",
       "2              5          30.0  \n",
       "3              2           0.0  \n",
       "4             12         100.0  "
      ]
     },
     "execution_count": 8,
     "metadata": {},
     "output_type": "execute_result"
    }
   ],
   "source": [
    "test_df.head()"
   ]
  },
  {
   "cell_type": "code",
   "execution_count": 11,
   "metadata": {},
   "outputs": [
    {
     "name": "stderr",
     "output_type": "stream",
     "text": [
      "/tmp/slurm-salsabila.pranida-49173/ipykernel_822562/2328081268.py:15: FutureWarning: You are using `torch.load` with `weights_only=False` (the current default value), which uses the default pickle module implicitly. It is possible to construct malicious pickle data which will execute arbitrary code during unpickling (See https://github.com/pytorch/pytorch/blob/main/SECURITY.md#untrusted-models for more details). In a future release, the default value for `weights_only` will be flipped to `True`. This limits the functions that could be executed during unpickling. Arbitrary objects will no longer be allowed to be loaded via this mode unless they are explicitly allowlisted by the user via `torch.serialization.add_safe_globals`. We recommend you start setting `weights_only=True` for any use case where you don't have full control of the loaded file. Please open an issue on GitHub for any issues related to this experimental feature.\n",
      "  model.load_state_dict(torch.load(os.path.join(RESULT_DIR, model_filename)))\n",
      "/tmp/slurm-salsabila.pranida-49173/ipykernel_822562/2328081268.py:15: FutureWarning: You are using `torch.load` with `weights_only=False` (the current default value), which uses the default pickle module implicitly. It is possible to construct malicious pickle data which will execute arbitrary code during unpickling (See https://github.com/pytorch/pytorch/blob/main/SECURITY.md#untrusted-models for more details). In a future release, the default value for `weights_only` will be flipped to `True`. This limits the functions that could be executed during unpickling. Arbitrary objects will no longer be allowed to be loaded via this mode unless they are explicitly allowlisted by the user via `torch.serialization.add_safe_globals`. We recommend you start setting `weights_only=True` for any use case where you don't have full control of the loaded file. Please open an issue on GitHub for any issues related to this experimental feature.\n",
      "  model.load_state_dict(torch.load(os.path.join(RESULT_DIR, model_filename)))\n",
      "/tmp/slurm-salsabila.pranida-49173/ipykernel_822562/2328081268.py:15: FutureWarning: You are using `torch.load` with `weights_only=False` (the current default value), which uses the default pickle module implicitly. It is possible to construct malicious pickle data which will execute arbitrary code during unpickling (See https://github.com/pytorch/pytorch/blob/main/SECURITY.md#untrusted-models for more details). In a future release, the default value for `weights_only` will be flipped to `True`. This limits the functions that could be executed during unpickling. Arbitrary objects will no longer be allowed to be loaded via this mode unless they are explicitly allowlisted by the user via `torch.serialization.add_safe_globals`. We recommend you start setting `weights_only=True` for any use case where you don't have full control of the loaded file. Please open an issue on GitHub for any issues related to this experimental feature.\n",
      "  model.load_state_dict(torch.load(os.path.join(RESULT_DIR, model_filename)))\n"
     ]
    },
    {
     "name": "stdout",
     "output_type": "stream",
     "text": [
      "\n",
      "Evaluation Results:\n",
      "ALBERT only - Accuracy: 0.0129, F1 Score: 0.0191, Kappa Score: -0.0214\n",
      "ALBERT + GloVe - Accuracy: 0.0082, F1 Score: 0.0115, Kappa Score: -0.0167\n",
      "ALBERT + FastText - Accuracy: 0.0082, F1 Score: 0.0119, Kappa Score: -0.0196\n"
     ]
    }
   ],
   "source": [
    "# Evaluate using each model type\n",
    "results = {}\n",
    "\n",
    "model_files = {\n",
    "    None: (\"regression_model_albert.pth\", \"embedding_size_albert.npy\", \"ALBERT only\"),\n",
    "    \"glove\": (\"regression_model_glove.pth\", \"embedding_size_glove.npy\", \"ALBERT + GloVe\"),\n",
    "    \"fasttext\": (\"regression_model_fasttext.pth\", \"embedding_size_fasttext.npy\", \"ALBERT + FastText\")\n",
    "}\n",
    "\n",
    "# Loop over each embedding type\n",
    "for embedding_type, (model_filename, embedding_size_filename, embedding_type_name) in model_files.items():\n",
    "    # Load model and embedding size\n",
    "    input_size = int(np.load(os.path.join(RESULT_DIR, embedding_size_filename)))\n",
    "    model = RegressionModel(input_size).to(device)\n",
    "    model.load_state_dict(torch.load(os.path.join(RESULT_DIR, model_filename)))\n",
    "    model.eval()\n",
    "\n",
    "    # Generate embeddings for test data with the correct embedding model\n",
    "    test_df['embeddings'] = test_df['essay'].apply(\n",
    "        lambda x: create_combined_embedding(\n",
    "            x,\n",
    "            embedding_type,\n",
    "            glove_model=glove_model if embedding_type == \"glove\" else None,\n",
    "            fasttext_model=fasttext_model if embedding_type == \"fasttext\" else None\n",
    "        )[0]\n",
    "    )\n",
    "    X_test_tensor = torch.tensor(np.stack(test_df['embeddings'].values), dtype=torch.float32).to(device)\n",
    "\n",
    "    # Predict scores\n",
    "    with torch.no_grad():\n",
    "        y_pred = model(X_test_tensor).cpu().numpy()\n",
    "    test_df['pred_score'] = np.clip(np.round(y_pred).astype(float), new_min, new_max)\n",
    "\n",
    "    # Calculate metrics\n",
    "    accuracy = accuracy_score(test_df['scaled_score'], test_df['pred_score'])\n",
    "    f1 = f1_score(test_df['scaled_score'], test_df['pred_score'], average='weighted')\n",
    "    kappa_score = cohen_kappa_score(test_df['scaled_score'], test_df['pred_score'], weights='quadratic')\n",
    "\n",
    "    # Store results\n",
    "    results[embedding_type_name] = {'accuracy': accuracy, 'f1_score': f1, 'kappa_score': kappa_score}\n",
    "\n",
    "# Display results\n",
    "print(\"\\nEvaluation Results:\")\n",
    "for embedding_type_name, metrics in results.items():\n",
    "    print(f\"{embedding_type_name} - Accuracy: {metrics['accuracy']:.4f}, F1 Score: {metrics['f1_score']:.4f}, Kappa Score: {metrics['kappa_score']:.4f}\")"
   ]
  },
  {
   "cell_type": "code",
   "execution_count": null,
   "metadata": {},
   "outputs": [],
   "source": []
  }
 ],
 "metadata": {
  "kernelspec": {
   "display_name": "ai_aes",
   "language": "python",
   "name": "python3"
  },
  "language_info": {
   "codemirror_mode": {
    "name": "ipython",
    "version": 3
   },
   "file_extension": ".py",
   "mimetype": "text/x-python",
   "name": "python",
   "nbconvert_exporter": "python",
   "pygments_lexer": "ipython3",
   "version": "3.11.10"
  }
 },
 "nbformat": 4,
 "nbformat_minor": 2
}
